{
  "nbformat": 4,
  "nbformat_minor": 0,
  "metadata": {
    "colab": {
      "provenance": []
    },
    "kernelspec": {
      "name": "python3",
      "display_name": "Python 3"
    },
    "language_info": {
      "name": "python"
    }
  },
  "cells": [
    {
      "cell_type": "markdown",
      "source": [
        "The aim of this project is to analyze historical stock prices of a publicly traded company (in this case, TCS.NS) and build predictive models to forecast the next day’s closing price. Using past stock movements and trends, we attempt to capture patterns that may help anticipate short-term price fluctuations.\n",
        "\n",
        "Dataset Overview:\n",
        "\n",
        "The dataset is obtained directly from Yahoo Finance using the yfinance Python library.\n",
        "\n",
        "It includes daily stock prices, specifically: Open, High, Low, Close, Adjusted Close, and Volume.\n",
        "\n",
        "After preprocessing, we focus on the Close price, as it is the most widely used reference for stock valuation and prediction.\n"
      ],
      "metadata": {
        "id": "By2-o3Ml6aJ6"
      }
    },
    {
      "cell_type": "code",
      "execution_count": 1,
      "metadata": {
        "id": "sEA1Qy2Q1JX-"
      },
      "outputs": [],
      "source": [
        "import yfinance as yf\n",
        "import pandas as pd\n",
        "import numpy as np\n",
        "from sklearn.linear_model import LinearRegression\n",
        "from sklearn.ensemble import RandomForestRegressor\n",
        "from sklearn.metrics import mean_squared_error, r2_score\n",
        "from sklearn.model_selection import train_test_split\n",
        "import matplotlib.pyplot as plt\n",
        "import datetime"
      ]
    },
    {
      "cell_type": "code",
      "source": [
        "TICKER = \"TCS.NS\"\n",
        "START = \"2023-01-01\"\n",
        "END = datetime.date.today().strftime(\"%Y-%m-%d\")\n",
        "LOOKBACK_DAYS = 5"
      ],
      "metadata": {
        "id": "OnXPGvlu1R5w"
      },
      "execution_count": 2,
      "outputs": []
    },
    {
      "cell_type": "code",
      "source": [
        "#downloading stock data\n",
        "df = yf.download(TICKER, start=START, end=END, progress=False)\n",
        "df = df[['Close']].dropna()\n",
        "df.reset_index(inplace=True)"
      ],
      "metadata": {
        "colab": {
          "base_uri": "https://localhost:8080/"
        },
        "id": "upuh6P-z1ke1",
        "outputId": "baf8deed-9fd5-4054-87eb-b49b0cf8f035"
      },
      "execution_count": 4,
      "outputs": [
        {
          "output_type": "stream",
          "name": "stderr",
          "text": [
            "/tmp/ipython-input-1216183780.py:2: FutureWarning: YF.download() has changed argument auto_adjust default to True\n",
            "  df = yf.download(TICKER, start=START, end=END, progress=False)\n"
          ]
        }
      ]
    },
    {
      "cell_type": "code",
      "source": [
        "import yfinance as yf\n",
        "\n",
        "TICKER = \"TCS.NS\"\n",
        "df = yf.download(TICKER, progress=False)\n",
        "print(df.columns)\n"
      ],
      "metadata": {
        "colab": {
          "base_uri": "https://localhost:8080/"
        },
        "id": "tC__HLXA4wXp",
        "outputId": "51e2eaf3-2358-430c-cb65-0bf551569fed"
      },
      "execution_count": 20,
      "outputs": [
        {
          "output_type": "stream",
          "name": "stderr",
          "text": [
            "/tmp/ipython-input-3938587873.py:4: FutureWarning: YF.download() has changed argument auto_adjust default to True\n",
            "  df = yf.download(TICKER, progress=False)\n"
          ]
        },
        {
          "output_type": "stream",
          "name": "stdout",
          "text": [
            "MultiIndex([( 'Close', 'TCS.NS'),\n",
            "            (  'High', 'TCS.NS'),\n",
            "            (   'Low', 'TCS.NS'),\n",
            "            (  'Open', 'TCS.NS'),\n",
            "            ('Volume', 'TCS.NS')],\n",
            "           names=['Price', 'Ticker'])\n"
          ]
        }
      ]
    },
    {
      "cell_type": "code",
      "source": [
        "# Flatten column names if they are MultiIndex (common with yfinance)\n",
        "if isinstance(df.columns, pd.MultiIndex):\n",
        "    df.columns = ['_'.join(col).strip() for col in df.columns.values]\n",
        "print(df.columns)"
      ],
      "metadata": {
        "colab": {
          "base_uri": "https://localhost:8080/"
        },
        "id": "eS2gR76X4mWk",
        "outputId": "27e3b20f-4d19-472c-b8d4-d62d7450fd35"
      },
      "execution_count": 22,
      "outputs": [
        {
          "output_type": "stream",
          "name": "stdout",
          "text": [
            "Index(['Close_TCS.NS', 'High_TCS.NS', 'Low_TCS.NS', 'Open_TCS.NS',\n",
            "       'Volume_TCS.NS'],\n",
            "      dtype='object')\n"
          ]
        }
      ]
    },
    {
      "cell_type": "code",
      "source": [
        "df = df[['Close_TCS.NS']].copy()  # Use the exact column name from flattened columns\n",
        "df.reset_index(inplace=True)\n"
      ],
      "metadata": {
        "id": "VFW6PecI5BEz"
      },
      "execution_count": 23,
      "outputs": []
    },
    {
      "cell_type": "markdown",
      "source": [
        "2. Creating additional features from the historical closing prices to help the models capture trends and patterns:\n",
        "\n",
        "Lag features (lag_1 to lag_5): Represent the closing prices from the previous 1 to 5 days. These features allow models to learn momentum and short-term trends.\n",
        "\n",
        "Moving averages (ma_5, ma_10): 5-day and 10-day simple moving averages smooth out daily price fluctuations and capture overall trend directions.\n",
        "\n",
        "Rows containing NaN values (resulting from lag or moving average calculations) are removed to ensure a clean dataset for modeling."
      ],
      "metadata": {
        "id": "-NY7CZgz60K4"
      }
    },
    {
      "cell_type": "code",
      "source": [
        "# 2. Feature engineering: create lag features and moving averages\n",
        "for lag in range(1, LOOKBACK_DAYS + 1):\n",
        "    df[f'lag_{lag}'] = df['Close_TCS.NS'].shift(lag)\n",
        "df['ma_5'] = df['Close_TCS.NS'].rolling(5).mean()\n",
        "df['ma_10'] = df['Close_TCS.NS'].rolling(10).mean()\n",
        "df.dropna(inplace=True)\n",
        "df['target'] = df['Close_TCS.NS'].shift(-1)\n",
        "df.dropna(inplace=True)\n"
      ],
      "metadata": {
        "id": "A-NxCvT91rkR"
      },
      "execution_count": 24,
      "outputs": []
    },
    {
      "cell_type": "code",
      "source": [
        "\n",
        "print(df.columns)\n"
      ],
      "metadata": {
        "colab": {
          "base_uri": "https://localhost:8080/"
        },
        "id": "O5SahGWJ11U1",
        "outputId": "7b5e7081-174c-4be2-ae67-7235fe302123"
      },
      "execution_count": 25,
      "outputs": [
        {
          "output_type": "stream",
          "name": "stdout",
          "text": [
            "Index(['Date', 'Close_TCS.NS', 'lag_1', 'lag_2', 'lag_3', 'lag_4', 'lag_5',\n",
            "       'ma_5', 'ma_10', 'target'],\n",
            "      dtype='object')\n"
          ]
        }
      ]
    },
    {
      "cell_type": "code",
      "source": [
        "df.columns = df.columns.map(lambda x: x[1:-1].replace(\"'\", \"\").replace(\" \", \"\").split(\",\")[0])\n"
      ],
      "metadata": {
        "id": "MMEA2y6B3Z2V"
      },
      "execution_count": 12,
      "outputs": []
    },
    {
      "cell_type": "markdown",
      "source": [
        "3. Defining Target Variable\n",
        "The target variable, target, represents the next day’s closing price. This is created by shifting the Close column by -1. The last row, which does not have a next day value, is dropped to avoid errors during model training."
      ],
      "metadata": {
        "id": "Yvg4zPDy61b_"
      }
    },
    {
      "cell_type": "code",
      "source": [
        "# 3. Define target variable\n",
        "\n",
        "# Predict next day close\n",
        "close_col = [c for c in df.columns if c.lower().startswith('close')][0]  # automatically find Close column\n",
        "df['target'] = df[close_col].shift(-1)\n",
        "df.dropna(inplace=True)  # drop last row where target is NaN"
      ],
      "metadata": {
        "id": "vzyQD-kt12FO"
      },
      "execution_count": 26,
      "outputs": []
    },
    {
      "cell_type": "markdown",
      "source": [
        "4. Defining Features and Target Arrays\n",
        "The feature set X includes all lag features and moving averages, while y is the target variable. A safety check ensures that all required columns exist before training. This step prepares the data for supervised learning models."
      ],
      "metadata": {
        "id": "q-MkQV__6-bW"
      }
    },
    {
      "cell_type": "code",
      "source": [
        "# 4. Define features and target arrays\n",
        "\n",
        "features = [c for c in df.columns if c.startswith('lag_') or c.startswith('ma_')]\n",
        "target = 'target'\n",
        "\n",
        "# Safety check\n",
        "missing_cols = [col for col in features + [target] if col not in df.columns]\n",
        "if missing_cols:\n",
        "    raise ValueError(f\"Missing columns in DataFrame: {missing_cols}\")\n",
        "\n",
        "X = df[features]\n",
        "y = df[target]\n",
        "\n",
        "print(f\"Data ready. Total rows after feature engineering: {len(df)}\")\n",
        "print(\"Feature columns:\", X.columns.tolist())"
      ],
      "metadata": {
        "colab": {
          "base_uri": "https://localhost:8080/"
        },
        "id": "ZzD3yzrd3Av4",
        "outputId": "51825ed5-1ab5-4994-a2bf-b93f8b2a68da"
      },
      "execution_count": 27,
      "outputs": [
        {
          "output_type": "stream",
          "name": "stdout",
          "text": [
            "Data ready. Total rows after feature engineering: 13\n",
            "Feature columns: ['lag_1', 'lag_2', 'lag_3', 'lag_4', 'lag_5', 'ma_5', 'ma_10']\n"
          ]
        }
      ]
    },
    {
      "cell_type": "markdown",
      "source": [
        "5. Training-Test Split\n",
        "The dataset is split into training and testing sets using an 80-20 split, respecting the time-series order (i.e., no shuffling). This ensures that models are trained on past data and tested on future data, simulating real-world prediction scenarios."
      ],
      "metadata": {
        "id": "KHTnlV437AdX"
      }
    },
    {
      "cell_type": "code",
      "source": [
        "# 5. Train-test split (time-series aware)\n",
        "\n",
        "split_idx = int(len(df) * 0.8)\n",
        "X_train, X_test = X.iloc[:split_idx], X.iloc[split_idx:]\n",
        "y_train, y_test = y.iloc[:split_idx], y.iloc[split_idx:]\n",
        "\n",
        "print(f\"Training samples: {len(X_train)}, Testing samples: {len(X_test)}\")\n"
      ],
      "metadata": {
        "colab": {
          "base_uri": "https://localhost:8080/"
        },
        "id": "wtkeUFKg3o7X",
        "outputId": "70114c83-19d1-4f11-b25d-e2d354792c3c"
      },
      "execution_count": 28,
      "outputs": [
        {
          "output_type": "stream",
          "name": "stdout",
          "text": [
            "Training samples: 10, Testing samples: 3\n"
          ]
        }
      ]
    },
    {
      "cell_type": "markdown",
      "source": [
        "6. Linear Regression Model\n",
        "A Linear Regression model is trained on the training set. This model captures linear relationships between the lag and moving average features and the next day’s closing price. Predictions are generated for the test set, and model performance is evaluated using RMSE and R² metrics."
      ],
      "metadata": {
        "id": "5fb8F7xi7GFO"
      }
    },
    {
      "cell_type": "code",
      "source": [
        "# 6. Linear Regression\n",
        "from sklearn.linear_model import LinearRegression\n",
        "from sklearn.metrics import mean_squared_error, r2_score\n",
        "\n",
        "lr = LinearRegression()\n",
        "lr.fit(X_train, y_train)\n",
        "pred_lr = lr.predict(X_test)\n",
        "\n",
        "rmse_lr = mean_squared_error(y_test, pred_lr) ** 0.5\n",
        "\n",
        "r2_lr = r2_score(y_test, pred_lr)\n"
      ],
      "metadata": {
        "id": "EB54bWZf5i3G"
      },
      "execution_count": 30,
      "outputs": []
    },
    {
      "cell_type": "markdown",
      "source": [
        "7. Random Forest Model\n",
        "A Random Forest Regressor, an ensemble of decision trees, is trained on the same features. This model can capture non-linear relationships and complex interactions among features. Test set predictions are evaluated using RMSE and R², providing a benchmark against Linear Regression."
      ],
      "metadata": {
        "id": "A8shXi1h7I1F"
      }
    },
    {
      "cell_type": "code",
      "source": [
        "# 7. Random Forest\n",
        "\n",
        "rf = RandomForestRegressor(n_estimators=100, random_state=42)\n",
        "rf.fit(X_train, y_train)\n",
        "pred_rf = rf.predict(X_test)\n",
        "\n",
        "rmse_rf = mean_squared_error(y_test, pred_rf) ** 0.5  # Manual RMSE\n",
        "r2_rf = r2_score(y_test, pred_rf)\n"
      ],
      "metadata": {
        "id": "yvrbIAZE5vQ_"
      },
      "execution_count": 31,
      "outputs": []
    },
    {
      "cell_type": "markdown",
      "source": [
        "8. Printing Model Performance\n",
        "The performance of both models is displayed, including RMSE (lower values indicate more accurate predictions) and R² (higher values indicate better explanation of variance). This comparison helps identify which model better captures the stock price behavior."
      ],
      "metadata": {
        "id": "t-mBlioN7Lb8"
      }
    },
    {
      "cell_type": "code",
      "source": [
        "# 8. Print model performance\n",
        "\n",
        "print(\"\\nModel performance on test set:\")\n",
        "print(f\"Linear Regression -> RMSE: {rmse_lr:.3f}, R2: {r2_lr:.3f}\")\n",
        "print(f\"Random Forest     -> RMSE: {rmse_rf:.3f}, R2: {r2_rf:.3f}\")"
      ],
      "metadata": {
        "colab": {
          "base_uri": "https://localhost:8080/"
        },
        "id": "PLsvYJig53xi",
        "outputId": "db7fae79-1f68-4cac-d7dd-f70a511de981"
      },
      "execution_count": 32,
      "outputs": [
        {
          "output_type": "stream",
          "name": "stdout",
          "text": [
            "\n",
            "Model performance on test set:\n",
            "Linear Regression -> RMSE: 64.181, R2: -20.672\n",
            "Random Forest     -> RMSE: 109.184, R2: -61.720\n"
          ]
        }
      ]
    },
    {
      "cell_type": "markdown",
      "source": [
        "Interpretation of Model Performance\n",
        "\n",
        "The models were evaluated on the test set using RMSE and R² metrics:\n",
        "\n",
        "Linear Regression achieved an RMSE of 64.181 and an R² of -20.672.\n",
        "\n",
        "Random Forest achieved an RMSE of 109.184 and an R² of -61.720.\n",
        "\n",
        "Interpretation:\n",
        "\n",
        "RMSE indicates the average deviation of the predicted closing prices from the actual prices. Linear Regression’s predictions are, on average, about 64 units away from the actual price, while Random Forest’s predictions deviate by about 109 units.\n",
        "\n",
        "R² represents how well the model explains the variance in the data. Both models have negative R² values, which indicates that they perform worse than a simple baseline model that predicts the mean closing price for all days.\n",
        "\n",
        "Conclusion:\n",
        "\n",
        "Both models are unable to accurately predict the next day closing prices using only past 5-day lag values and simple moving averages.\n",
        "\n",
        "Linear Regression performs relatively better than Random Forest but is still not reliable for forecasting in its current setup.\n",
        "\n",
        "These results highlight the high volatility and unpredictability of stock prices, suggesting that more advanced features or time-series models might be needed for meaningful predictions."
      ],
      "metadata": {
        "id": "CE_RMkN67p95"
      }
    },
    {
      "cell_type": "markdown",
      "source": [
        "9. Ploting Actual vs Predicted\n",
        "A line plot is generated for the last N days of the test set, showing:\n",
        "\n",
        "Actual closing prices\n",
        "\n",
        "Predictions from Linear Regression\n",
        "\n",
        "Predictions from Random Forest\n",
        "This visualization allows intuitive evaluation of how closely each model tracks the actual stock movements."
      ],
      "metadata": {
        "id": "yP31sUiU7SSR"
      }
    },
    {
      "cell_type": "code",
      "source": [
        "# 9. Plot actual vs predicted\n",
        "\n",
        "\n",
        "plot_n = min(60, len(y_test))\n",
        "idx_plot = y_test.index[-plot_n:]\n",
        "\n",
        "plt.figure(figsize=(10, 5))\n",
        "plt.plot(df.loc[idx_plot, 'Date'], y_test.iloc[-plot_n:].values, label='Actual', linewidth=2)\n",
        "plt.plot(df.loc[idx_plot, 'Date'], pred_lr[-plot_n:], label='LinearReg Pred', linestyle='--')\n",
        "plt.plot(df.loc[idx_plot, 'Date'], pred_rf[-plot_n:], label='RandomForest Pred', linestyle=':')\n",
        "plt.xticks(rotation=45)\n",
        "plt.title(f\"Stock Prediction - Actual vs Predicted (last {plot_n} days)\")\n",
        "plt.xlabel(\"Date\")\n",
        "plt.ylabel(\"Close Price\")\n",
        "plt.legend()\n",
        "plt.tight_layout()\n",
        "plt.savefig(\"actual_vs_predicted.png\", dpi=150)\n",
        "plt.show()\n"
      ],
      "metadata": {
        "colab": {
          "base_uri": "https://localhost:8080/",
          "height": 507
        },
        "id": "VT0VnVt056fD",
        "outputId": "c4da880c-7f3d-4271-e9b2-adb0103e3a4e"
      },
      "execution_count": 33,
      "outputs": [
        {
          "output_type": "display_data",
          "data": {
            "text/plain": [
              "<Figure size 1000x500 with 1 Axes>"
            ],
            "image/png": "[encoded data removed]"
          },
          "metadata": {}
        }
      ]
    },
    {
      "cell_type": "code",
      "source": [
        "# 10. Save results CSV\n",
        "\n",
        "results = pd.DataFrame({\n",
        "    'Date': df.loc[y_test.index, 'Date'],\n",
        "    'Actual': y_test.values,\n",
        "    'LR_Pred': pred_lr,\n",
        "    'RF_Pred': pred_rf\n",
        "})\n",
        "results.to_csv(\"predictions.csv\", index=False)\n",
        "\n",
        "print(\"\\nSaved plot: actual_vs_predicted.png\")\n",
        "print(\"Saved predictions: predictions.csv\")"
      ],
      "metadata": {
        "colab": {
          "base_uri": "https://localhost:8080/"
        },
        "id": "phShJgGr5_Dt",
        "outputId": "eeffe01b-b50a-4ba6-a011-b748a453b101"
      },
      "execution_count": 34,
      "outputs": [
        {
          "output_type": "stream",
          "name": "stdout",
          "text": [
            "\n",
            "Saved plot: actual_vs_predicted.png\n",
            "Saved predictions: predictions.csv\n"
          ]
        }
      ]
    }
  ]
}
